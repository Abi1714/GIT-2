{
 "cells": [
  {
   "cell_type": "code",
   "execution_count": 4,
   "id": "305fd1d6-78fa-4770-9261-a947e37fce66",
   "metadata": {},
   "outputs": [],
   "source": [
    "import numpy as np \n",
    "import cv2 as cv\n",
    "import os\n",
    "\n",
    "rostro = cv.CascadeClassifier('haarcascade_frontalface_alt.xml')"
   ]
  },
  {
   "cell_type": "code",
   "execution_count": 5,
   "id": "d9c8c210-79ab-4fe1-adcc-f43bb7487765",
   "metadata": {},
   "outputs": [],
   "source": [
    "def escala(imx, escala):\n",
    "    width = int(imx.shape[1] * escala / 100)\n",
    "    height = int(imx.shape[0] * escala / 100)\n",
    "    size = (width, height)\n",
    "    im = cv.resize(imx, size, interpolation = cv.INTER_AREA)\n",
    "    return im"
   ]
  },
  {
   "cell_type": "code",
   "execution_count": 8,
   "id": "773150d9-e360-4554-8363-4cdfecdad721",
   "metadata": {},
   "outputs": [],
   "source": [
    "cap = cv.VideoCapture(0)\n",
    "i = 0 \n",
    "while True:\n",
    "    ret, frame = cap.read()\n",
    "    gray = cv.cvtColor(frame, cv.COLOR_BGR2GRAY)\n",
    "    rostros = rostro.detectMultiScale(gray, 1.3, 5)\n",
    "    for(x, y, w, h) in rostros:\n",
    "        #frame = cv.rectangle(frame, (x,y), (x+w, y+h), (0, 255, 0), 2)\n",
    "        frame2 = frame[y:y+h, x:x+w]\n",
    "        #cv.imshow('rostros2', frame2)\n",
    "        frame2 = cv.resize(frame2, (100,100), interpolation = cv.INTER_AREA)\n",
    "        cv.imwrite('C:/Proyectos/IA/caras/brenda/brenda'+str(i)+'.png', frame2)\n",
    "        \n",
    "    cv.imshow('rostros', frame)\n",
    "    i=i+1\n",
    "    k = cv.waitKey(1)\n",
    "    if k == 27:\n",
    "        break\n",
    "cap.release()\n",
    "cv.destroyAllWindows()"
   ]
  },
  {
   "cell_type": "code",
   "execution_count": 1,
   "id": "6742afb3-9595-44d5-9440-693e8acf160f",
   "metadata": {},
   "outputs": [
    {
     "name": "stdout",
     "output_type": "stream",
     "text": [
      "['abimael', 'axel', 'brenda', 'dante', 'Kiana', 'leo']\n",
      "500\n"
     ]
    }
   ],
   "source": [
    "import cv2 as cv \n",
    "import numpy as np \n",
    "import os\n",
    "\n",
    "dataSet = 'C:/Proyectos/IA/caras'\n",
    "faces = os.listdir(dataSet)\n",
    "print(faces)\n",
    "\n",
    "labels = []\n",
    "facesData = []\n",
    "label = 0 \n",
    "for face in faces:\n",
    "    facePath = os.path.join(dataSet, face)\n",
    "    for faceName in os.listdir(facePath):\n",
    "        image_path = os.path.join(facePath, faceName)\n",
    "        img = cv.imread(image_path, 0)\n",
    "        if img is not None:  # Verifica si la imagen se ha cargado correctamente\n",
    "            # Redimensionar la imagen a un tamaño específico\n",
    "            img = cv.resize(img, (100, 100))  # Ajusta el tamaño según sea necesario\n",
    "            labels.append(label)\n",
    "            facesData.append(img)\n",
    "        else:\n",
    "            print(f\"Error: No se pudo cargar la imagen {image_path}\")\n",
    "    label += 1\n",
    "\n",
    "print(np.count_nonzero(np.array(labels) == 0))\n",
    "\n",
    "faceRecognizer = cv.face.EigenFaceRecognizer_create()\n",
    "faceRecognizer.train(facesData, np.array(labels))\n",
    "faceRecognizer.write('abimaelEigenface.xml')"
   ]
  },
  {
   "cell_type": "code",
   "execution_count": 2,
   "id": "3d1eaedc-ad52-4521-97fd-5d7ae543c5cd",
   "metadata": {},
   "outputs": [],
   "source": [
    "import cv2 as cv \n",
    "import numpy as np \n",
    "import os\n",
    "\n",
    "faceRecognizer = cv.face.EigenFaceRecognizer_create()\n",
    "faceRecognizer.read('abimaelEigenface.xml')\n",
    "\n",
    "dataSet = 'C:/Proyectos/IA/caras'\n",
    "faces = os.listdir(dataSet)\n",
    "\n",
    "cap = cv.VideoCapture(0)\n",
    "rostro = cv.CascadeClassifier('haarcascade_frontalface_alt.xml')\n",
    "while True:\n",
    "    ret, frame = cap.read()\n",
    "    if ret == False: \n",
    "        break\n",
    "    gray = cv.cvtColor(frame, cv.COLOR_BGR2GRAY)\n",
    "    cpGray = gray.copy()\n",
    "    rostros = rostro.detectMultiScale(gray, 1.3, 3)\n",
    "    for (x, y, w, h) in rostros:\n",
    "        frame2 = cpGray[y:y+h, x:x+w]\n",
    "        frame2 = cv.resize(frame2,  (100,100), interpolation=cv.INTER_CUBIC)\n",
    "        result = faceRecognizer.predict(frame2)\n",
    "        if result[1] > 2800:\n",
    "            cv.putText(frame, '{}'.format(faces[result[0]]), (x, y-25), 2, 1.1, (0,255,0), 1, cv.LINE_AA)\n",
    "            cv.rectangle(frame, (x, y), (x+w, y+h), (0,255,0), 2)\n",
    "        else:\n",
    "            cv.putText(frame, 'Desconocido', (x, y-20), 2, 0.8, (0,0,255), 1, cv.LINE_AA)\n",
    "            cv.rectangle(frame, (x, y), (x+w, y+h), (0,0,255), 2)\n",
    "    cv.imshow('frame', frame)\n",
    "    k = cv.waitKey(1)\n",
    "    if k == 27:\n",
    "        break\n",
    "cap.release()\n",
    "cv.destroyAllWindows()"
   ]
  },
  {
   "cell_type": "code",
   "execution_count": null,
   "id": "00b76b8d-d443-4c75-8faa-863588e4382d",
   "metadata": {},
   "outputs": [],
   "source": []
  }
 ],
 "metadata": {
  "kernelspec": {
   "display_name": "Python 3 (ipykernel)",
   "language": "python",
   "name": "python3"
  },
  "language_info": {
   "codemirror_mode": {
    "name": "ipython",
    "version": 3
   },
   "file_extension": ".py",
   "mimetype": "text/x-python",
   "name": "python",
   "nbconvert_exporter": "python",
   "pygments_lexer": "ipython3",
   "version": "3.9.13"
  }
 },
 "nbformat": 4,
 "nbformat_minor": 5
}
