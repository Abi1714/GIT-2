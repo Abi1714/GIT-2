{
 "cells": [
  {
   "cell_type": "code",
   "execution_count": 1,
   "metadata": {},
   "outputs": [],
   "source": [
    "import cv2 as cv"
   ]
  },
  {
   "cell_type": "code",
   "execution_count": null,
   "metadata": {},
   "outputs": [],
   "source": [
    "img = cv.imread('\"C:\\Users\\elrey\\OneDrive\\Imágenes\\wallhaven-lm2y8y.jpg\"',1)\n",
    "#w, h, c = img.shape\n",
    "#print(w,h)\n",
    "for i in range (w):\n",
    "    for j in range (h):\n",
    "  #      img[i,j] = 255-img[i,j]\n",
    "        if (img[i,j]>150):\n",
    "            img[i,j] = 255 #Valor mas alto de los colores \n",
    "        else:\n",
    "            img[i,j] = 0 #Valor mas bajo de los colores\n",
    "\n",
    "cv.imshow('marco', img)#Guarda la imagen de las imagenes del image\n",
    "cv.walkey(0)#Deja la ventana abierta\n",
    "cv.destroyAllWindows()"
   ]
  },
  {
   "cell_type": "code",
   "execution_count": null,
   "metadata": {},
   "outputs": [],
   "source": []
  }
 ],
 "metadata": {
  "kernelspec": {
   "display_name": "Python 3 (ipykernel)",
   "language": "python",
   "name": "python3"
  },
  "language_info": {
   "codemirror_mode": {
    "name": "ipython",
    "version": 3
   },
   "file_extension": ".py",
   "mimetype": "text/x-python",
   "name": "python",
   "nbconvert_exporter": "python",
   "pygments_lexer": "ipython3",
   "version": "3.9.13"
  }
 },
 "nbformat": 4,
 "nbformat_minor": 4
}
